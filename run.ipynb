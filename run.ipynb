{
 "cells": [
  {
   "cell_type": "code",
   "execution_count": null,
   "metadata": {},
   "outputs": [],
   "source": [
    "import os\n",
    "import openai\n",
    "\n",
    "from dotenv import load_dotenv\n",
    "load_dotenv() \n",
    "\n",
    "openai.api_key = os.getenv(\"OPENAI_API_KEY\")"
   ]
  },
  {
   "attachments": {},
   "cell_type": "markdown",
   "metadata": {},
   "source": [
    "Understanding function calls"
   ]
  },
  {
   "cell_type": "code",
   "execution_count": 10,
   "metadata": {},
   "outputs": [],
   "source": [
    "completion = openai.ChatCompletion.create(\n",
    "    model=\"gpt-3.5-turbo-0613\",\n",
    "    messages=[\n",
    "        {\"role\": \"user\", \"content\": \"Explain how to assemble a PC\"}\n",
    "    ],\n",
    "    functions=[\n",
    "\n",
    "        {\n",
    "            \"name\": \"get_answer_for_user_query\",\n",
    "            \"description\": \"Get user answer in series of steps\",\n",
    "            \"parameters\": {\n",
    "                'title': 'StepByStepAIResponse',\n",
    "                'type': 'object',\n",
    "                'properties': {'title': {'title': 'Title', 'type': 'string'},\n",
    "                               'steps': {'title': 'Steps', 'type': 'array', 'items': {'type': 'string'}}},\n",
    "                'required': ['title', 'steps']\n",
    "            }\n",
    "        }\n",
    "    ],\n",
    "    function_call={\"name\": \"get_answer_for_user_query\"}\n",
    ")\n"
   ]
  },
  {
   "cell_type": "code",
   "execution_count": 11,
   "metadata": {},
   "outputs": [
    {
     "name": "stdout",
     "output_type": "stream",
     "text": [
      "None\n"
     ]
    }
   ],
   "source": [
    "print(completion.choices[0].message.content)"
   ]
  },
  {
   "cell_type": "code",
   "execution_count": 12,
   "metadata": {},
   "outputs": [
    {
     "name": "stdout",
     "output_type": "stream",
     "text": [
      "{\n",
      "  \"title\": \"How to assemble a PC\",\n",
      "  \"steps\": [\n",
      "    \"1. Choose the components\",\n",
      "    \"2. Prepare the workspace\",\n",
      "    \"3. Install the CPU\",\n",
      "    \"4. Install the CPU cooler\",\n",
      "    \"5. Insert RAM modules\",\n",
      "    \"6. Install the power supply\",\n",
      "    \"7. Mount the motherboard\",\n",
      "    \"8. Connect the storage devices\",\n",
      "    \"9. Install the graphics card\",\n",
      "    \"10. Connect the peripherals\",\n",
      "    \"11. Connect the power cables\",\n",
      "    \"12. Turn on the PC\"\n",
      "  ]\n",
      "}\n"
     ]
    }
   ],
   "source": [
    "print(completion.choices[0][\"message\"][\"function_call\"][\"arguments\"])"
   ]
  },
  {
   "cell_type": "code",
   "execution_count": null,
   "metadata": {},
   "outputs": [],
   "source": [
    "openai.Model.list()"
   ]
  },
  {
   "attachments": {},
   "cell_type": "markdown",
   "metadata": {},
   "source": [
    "Testing a language translation function"
   ]
  },
  {
   "cell_type": "code",
   "execution_count": 13,
   "metadata": {},
   "outputs": [],
   "source": [
    "res = openai.ChatCompletion.create(\n",
    "    model=\"gpt-3.5-turbo-0613\",\n",
    "    messages=[\n",
    "        {\"role\": \"user\", \"content\": \"Hi my name is Earl, how are you?\"}\n",
    "    ],\n",
    "    functions=[\n",
    "\n",
    "        {\n",
    "            \"name\": \"translateToSpanish\",\n",
    "            \"description\": \"Translate to spanish\",\n",
    "            \"parameters\": {\n",
    "                'title': 'StepByStepAIResponse',\n",
    "                'type': 'object',\n",
    "                'properties': {'english': {'title': 'english', 'type': 'string'},\n",
    "                               'spanish': {'title': 'spanish', 'type': 'string'}},\n",
    "                'required': ['english', 'spanish']\n",
    "            }\n",
    "        }\n",
    "    ],\n",
    "    function_call={\"name\": \"translateToSpanish\"}\n",
    ")\n"
   ]
  },
  {
   "cell_type": "code",
   "execution_count": 14,
   "metadata": {},
   "outputs": [
    {
     "name": "stdout",
     "output_type": "stream",
     "text": [
      "{\n",
      "  \"english\": \"Hi my name is Earl, how are you?\",\n",
      "  \"spanish\": \"Hola mi nombre es Earl, ¿cómo estás?\"\n",
      "}\n"
     ]
    }
   ],
   "source": [
    "print(res.choices[0][\"message\"][\"function_call\"][\"arguments\"])"
   ]
  },
  {
   "attachments": {},
   "cell_type": "markdown",
   "metadata": {},
   "source": [
    "I can do a translation without the chats, now to convert engloish to javascript.\n",
    "\n",
    "how to assign a variable?\n",
    "how to do basic math?\n",
    "how to do loops?\n",
    "\n"
   ]
  },
  {
   "attachments": {},
   "cell_type": "markdown",
   "metadata": {},
   "source": [
    "javascript:\n",
    "    const value = 1;\n",
    "    let value = 1;\n",
    "    const value = 'string';\n",
    "    let value = 'string';\n",
    "\n",
    "English:\n",
    "    I have a fixed number value of 1,\n",
    "    I have a number value of 1,\n",
    "    I have a fixed word value of \"string\",\n",
    "    I have a word value of \"string\" ,"
   ]
  },
  {
   "cell_type": "code",
   "execution_count": 42,
   "metadata": {},
   "outputs": [],
   "source": [
    "rules = {\"role\": \"user\",\n",
    "         \"content\": \"these are examples of javascript to English Script (const value = 1;I have a fixed number value of 1,I have a number value of 1,) (let value = 1;I have a fixed word value of 'string',) (const value = 'string';) (let value = 'string'; have a word value of 'string' ,) (const value = 'string';let carDoor = 5;I have a fixed word value of 'string' and a number carDoor of 5)\"}\n"
   ]
  },
  {
   "cell_type": "code",
   "execution_count": 45,
   "metadata": {},
   "outputs": [],
   "source": [
    "res = openai.ChatCompletion.create(\n",
    "    model=\"gpt-3.5-turbo-0613\",\n",
    "    messages=[\n",
    "        {\"role\": \"system\", \"content\": \"you are a compiler that translate english to javascript for the English Script Programming language\"},\n",
    "        rules,\n",
    "        {\"role\": \"user\", \"content\": \"I have a fixed word value of 'string' and a number carDoor of 5 and a number carWheel of 4\"}\n",
    "    ],\n",
    "    functions=[\n",
    "\n",
    "        {\n",
    "            \"name\": \"transpileToJavascript\",\n",
    "            \"description\": \"translate the English Script to Javascript\",\n",
    "            \"parameters\": {\n",
    "                'title': 'JavascriptResponse',\n",
    "                'type': 'object',\n",
    "                'properties': {'english': {'title': 'english', 'type': 'string'},\n",
    "                               'javascript': {'title': 'javascript', 'type': 'string'}},\n",
    "                'required': ['english', 'javascript']\n",
    "            }\n",
    "        }\n",
    "    ],\n",
    "    function_call={\"name\": \"transpileToJavascript\"}\n",
    ")\n"
   ]
  },
  {
   "cell_type": "code",
   "execution_count": 46,
   "metadata": {},
   "outputs": [
    {
     "name": "stdout",
     "output_type": "stream",
     "text": [
      "{\n",
      "  \"english\": \"I have a fixed word value of 'string' and a number carDoor of 5 and a number carWheel of 4\",\n",
      "  \"javascript\": \"const value = 'string'; let carDoor = 5; let carWheel = 4;\"\n",
      "}\n"
     ]
    }
   ],
   "source": [
    "print(res.choices[0][\"message\"][\"function_call\"][\"arguments\"])"
   ]
  },
  {
   "cell_type": "code",
   "execution_count": 28,
   "metadata": {},
   "outputs": [
    {
     "name": "stdout",
     "output_type": "stream",
     "text": [
      "{\n",
      "  \"finish_reason\": \"stop\",\n",
      "  \"index\": 0,\n",
      "  \"message\": {\n",
      "    \"content\": null,\n",
      "    \"function_call\": {\n",
      "      \"arguments\": \"{\\n  \\\"english\\\": \\\"I have a word value of 'string'\\\"\\n}\",\n",
      "      \"name\": \"transpileToJavascript\"\n",
      "    },\n",
      "    \"role\": \"assistant\"\n",
      "  }\n",
      "}\n"
     ]
    }
   ],
   "source": [
    "print(res.choices[0])"
   ]
  }
 ],
 "metadata": {
  "kernelspec": {
   "display_name": "english",
   "language": "python",
   "name": "python3"
  },
  "language_info": {
   "codemirror_mode": {
    "name": "ipython",
    "version": 3
   },
   "file_extension": ".py",
   "mimetype": "text/x-python",
   "name": "python",
   "nbconvert_exporter": "python",
   "pygments_lexer": "ipython3",
   "version": "3.11.3"
  },
  "orig_nbformat": 4
 },
 "nbformat": 4,
 "nbformat_minor": 2
}
