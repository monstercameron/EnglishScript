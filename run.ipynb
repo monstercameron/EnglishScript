{
 "cells": [
  {
   "cell_type": "code",
   "execution_count": null,
   "metadata": {},
   "outputs": [],
   "source": [
    "import os\n",
    "import openai\n",
    "\n",
    "from dotenv import load_dotenv\n",
    "load_dotenv() \n",
    "\n",
    "openai.api_key = os.getenv(\"OPENAI_API_KEY\")"
   ]
  },
  {
   "attachments": {},
   "cell_type": "markdown",
   "metadata": {},
   "source": [
    "Understanding function calls"
   ]
  },
  {
   "cell_type": "code",
   "execution_count": null,
   "metadata": {},
   "outputs": [],
   "source": [
    "completion = openai.ChatCompletion.create(\n",
    "    model=\"gpt-3.5-turbo-0613\",\n",
    "    messages=[\n",
    "        {\"role\": \"user\", \"content\": \"Explain how to assemble a PC\"}\n",
    "    ],\n",
    "    functions=[\n",
    "\n",
    "        {\n",
    "            \"name\": \"get_answer_for_user_query\",\n",
    "            \"description\": \"Get user answer in series of steps\",\n",
    "            \"parameters\": {\n",
    "                'title': 'StepByStepAIResponse',\n",
    "                'type': 'object',\n",
    "                'properties': {'title': {'title': 'Title', 'type': 'string'},\n",
    "                               'steps': {'title': 'Steps', 'type': 'array', 'items': {'type': 'string'}}},\n",
    "                'required': ['title', 'steps']\n",
    "            }\n",
    "        }\n",
    "    ],\n",
    "    function_call={\"name\": \"get_answer_for_user_query\"}\n",
    ")\n"
   ]
  },
  {
   "cell_type": "code",
   "execution_count": null,
   "metadata": {},
   "outputs": [],
   "source": [
    "print(completion.choices[0].message.content)"
   ]
  },
  {
   "cell_type": "code",
   "execution_count": null,
   "metadata": {},
   "outputs": [],
   "source": [
    "print(completion.choices[0][\"message\"][\"function_call\"][\"arguments\"])"
   ]
  },
  {
   "cell_type": "code",
   "execution_count": null,
   "metadata": {},
   "outputs": [],
   "source": [
    "openai.Model.list()"
   ]
  },
  {
   "attachments": {},
   "cell_type": "markdown",
   "metadata": {},
   "source": [
    "Testing a language translation function"
   ]
  },
  {
   "cell_type": "code",
   "execution_count": null,
   "metadata": {},
   "outputs": [],
   "source": [
    "res = openai.ChatCompletion.create(\n",
    "    model=\"gpt-3.5-turbo-0613\",\n",
    "    messages=[\n",
    "        {\"role\": \"user\", \"content\": \"Hi my name is Earl, how are you?\"}\n",
    "    ],\n",
    "    functions=[\n",
    "\n",
    "        {\n",
    "            \"name\": \"translateToSpanish\",\n",
    "            \"description\": \"Translate to spanish\",\n",
    "            \"parameters\": {\n",
    "                'title': 'StepByStepAIResponse',\n",
    "                'type': 'object',\n",
    "                'properties': {'english': {'title': 'english', 'type': 'string'},\n",
    "                               'spanish': {'title': 'spanish', 'type': 'string'}},\n",
    "                'required': ['english', 'spanish']\n",
    "            }\n",
    "        }\n",
    "    ],\n",
    "    function_call={\"name\": \"translateToSpanish\"}\n",
    ")\n"
   ]
  },
  {
   "cell_type": "code",
   "execution_count": null,
   "metadata": {},
   "outputs": [],
   "source": [
    "print(res.choices[0][\"message\"][\"function_call\"][\"arguments\"])"
   ]
  },
  {
   "attachments": {},
   "cell_type": "markdown",
   "metadata": {},
   "source": [
    "I can do a translation without the chats, now to convert engloish to javascript.\n",
    "\n",
    "how to assign a variable?\n",
    "how to do basic math?\n",
    "how to do loops?\n",
    "\n"
   ]
  },
  {
   "attachments": {},
   "cell_type": "markdown",
   "metadata": {},
   "source": [
    "javascript:\n",
    "    const value = 1;\n",
    "    let value = 1;\n",
    "    const value = 'string';\n",
    "    let value = 'string';\n",
    "\n",
    "English:\n",
    "    I have a fixed number value of 1,\n",
    "    I have a number value of 1,\n",
    "    I have a fixed word value of \"string\",\n",
    "    I have a word value of \"string\" ,"
   ]
  },
  {
   "cell_type": "code",
   "execution_count": null,
   "metadata": {},
   "outputs": [],
   "source": [
    "from lib.translations import get_rules , get_aliases\n",
    "\n",
    "# Now you can use the imported functions\n",
    "rules = get_rules()\n",
    "aliases = get_aliases()"
   ]
  },
  {
   "cell_type": "code",
   "execution_count": null,
   "metadata": {},
   "outputs": [],
   "source": [
    "res = openai.ChatCompletion.create(\n",
    "    model=\"gpt-3.5-turbo-0613\",\n",
    "    messages=[\n",
    "        {\"role\": \"system\", \"content\": \"you are a compiler that translate english to javascript for the English Script Programming language. Here are the rules that must alsways be followed: Only declare variables preceeding the 'I have a' phrase\"},\n",
    "        rules,\n",
    "        aliases,\n",
    "        {\"role\": \"user\", \"content\": \"I have a fixed number b that is 107, I have a number a that is 1 then I add a and b then multiply by 2, show my number a\"}\n",
    "    ],\n",
    "    functions=[\n",
    "        {\n",
    "            \"name\": \"transpileToJavascript\",\n",
    "            \"description\": \"translate the English Script to Javascript\",\n",
    "            \"parameters\": {\n",
    "                'title': 'JavascriptResponse',\n",
    "                'type': 'object',\n",
    "                'properties': {'english': {'title': 'english', 'type': 'string'},\n",
    "                               'javascript': {'title': 'javascript', 'type': 'string'}},\n",
    "                'required': ['english', 'javascript']\n",
    "            }\n",
    "        }\n",
    "    ],\n",
    "    function_call={\"name\": \"transpileToJavascript\"}\n",
    ")\n",
    "\n",
    "print(res.choices[0][\"message\"][\"function_call\"][\"arguments\"])\n"
   ]
  },
  {
   "cell_type": "code",
   "execution_count": null,
   "metadata": {},
   "outputs": [],
   "source": [
    "import json\n",
    "json_data = json.loads(res.choices[0][\"message\"][\"function_call\"][\"arguments\"])\n",
    "\n",
    "# Accessing the desired value\n",
    "function_call_arguments = json_data[\"javascript\"]\n",
    "print(function_call_arguments)"
   ]
  },
  {
   "cell_type": "code",
   "execution_count": null,
   "metadata": {},
   "outputs": [],
   "source": [
    "file_path = \"output/index.js\"\n",
    "string_to_write = function_call_arguments\n",
    "\n",
    "with open(file_path, \"w\") as file:\n",
    "    file.write(string_to_write)\n"
   ]
  },
  {
   "cell_type": "code",
   "execution_count": null,
   "metadata": {},
   "outputs": [],
   "source": [
    "from lib.executejavascript import execute_javascript_file\n",
    "\n",
    "execute_javascript_file('output\\index.js')"
   ]
  }
 ],
 "metadata": {
  "kernelspec": {
   "display_name": "english",
   "language": "python",
   "name": "python3"
  },
  "language_info": {
   "codemirror_mode": {
    "name": "ipython",
    "version": 3
   },
   "file_extension": ".py",
   "mimetype": "text/x-python",
   "name": "python",
   "nbconvert_exporter": "python",
   "pygments_lexer": "ipython3",
   "version": "3.11.3"
  },
  "orig_nbformat": 4
 },
 "nbformat": 4,
 "nbformat_minor": 2
}
